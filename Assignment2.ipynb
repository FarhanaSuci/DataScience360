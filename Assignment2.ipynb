{
 "cells": [
  {
   "cell_type": "markdown",
   "id": "cd733ae7-6fac-40d7-88a4-ec7c9e703cbd",
   "metadata": {},
   "source": [
    "# 1) Data Preparation"
   ]
  },
  {
   "cell_type": "code",
   "execution_count": 1,
   "id": "ce3323f0-3199-45bd-97a8-ac4cfa10e567",
   "metadata": {},
   "outputs": [],
   "source": [
    "import numpy as np"
   ]
  },
  {
   "cell_type": "code",
   "execution_count": 2,
   "id": "b225add1-3ae4-4d9d-b219-5b3ae0a7a9c1",
   "metadata": {},
   "outputs": [],
   "source": [
    "import pandas as pd"
   ]
  },
  {
   "cell_type": "code",
   "execution_count": 3,
   "id": "b0839f1c-0836-4c8b-b753-32468342fb3f",
   "metadata": {},
   "outputs": [],
   "source": [
    "df = pd.read_csv(\"airlines.csv\")"
   ]
  },
  {
   "cell_type": "code",
   "execution_count": 4,
   "id": "b7dd15d3-e472-417c-9861-f4bc8a792359",
   "metadata": {},
   "outputs": [
    {
     "data": {
      "text/html": [
       "<div>\n",
       "<style scoped>\n",
       "    .dataframe tbody tr th:only-of-type {\n",
       "        vertical-align: middle;\n",
       "    }\n",
       "\n",
       "    .dataframe tbody tr th {\n",
       "        vertical-align: top;\n",
       "    }\n",
       "\n",
       "    .dataframe thead th {\n",
       "        text-align: right;\n",
       "    }\n",
       "</style>\n",
       "<table border=\"1\" class=\"dataframe\">\n",
       "  <thead>\n",
       "    <tr style=\"text-align: right;\">\n",
       "      <th></th>\n",
       "      <th>satisfaction</th>\n",
       "      <th>Customer Type</th>\n",
       "      <th>Age</th>\n",
       "      <th>Type of Travel</th>\n",
       "      <th>Class</th>\n",
       "      <th>Flight Distance</th>\n",
       "      <th>Seat comfort</th>\n",
       "      <th>Departure/Arrival time convenient</th>\n",
       "      <th>Food and drink</th>\n",
       "      <th>Gate location</th>\n",
       "      <th>...</th>\n",
       "      <th>Online support</th>\n",
       "      <th>Ease of Online booking</th>\n",
       "      <th>On-board service</th>\n",
       "      <th>Leg room service</th>\n",
       "      <th>Baggage handling</th>\n",
       "      <th>Checkin service</th>\n",
       "      <th>Cleanliness</th>\n",
       "      <th>Online boarding</th>\n",
       "      <th>Departure Delay in Minutes</th>\n",
       "      <th>Arrival Delay in Minutes</th>\n",
       "    </tr>\n",
       "  </thead>\n",
       "  <tbody>\n",
       "    <tr>\n",
       "      <th>0</th>\n",
       "      <td>dissatisfied</td>\n",
       "      <td>Loyal Customer</td>\n",
       "      <td>28</td>\n",
       "      <td>Personal Travel</td>\n",
       "      <td>Business</td>\n",
       "      <td>3849</td>\n",
       "      <td>3</td>\n",
       "      <td>5</td>\n",
       "      <td>3</td>\n",
       "      <td>5</td>\n",
       "      <td>...</td>\n",
       "      <td>3</td>\n",
       "      <td>3</td>\n",
       "      <td>5</td>\n",
       "      <td>2</td>\n",
       "      <td>3</td>\n",
       "      <td>1</td>\n",
       "      <td>1</td>\n",
       "      <td>3</td>\n",
       "      <td>0</td>\n",
       "      <td>0.0</td>\n",
       "    </tr>\n",
       "    <tr>\n",
       "      <th>1</th>\n",
       "      <td>satisfied</td>\n",
       "      <td>Loyal Customer</td>\n",
       "      <td>15</td>\n",
       "      <td>Personal Travel</td>\n",
       "      <td>Eco</td>\n",
       "      <td>2060</td>\n",
       "      <td>3</td>\n",
       "      <td>3</td>\n",
       "      <td>3</td>\n",
       "      <td>3</td>\n",
       "      <td>...</td>\n",
       "      <td>5</td>\n",
       "      <td>4</td>\n",
       "      <td>5</td>\n",
       "      <td>3</td>\n",
       "      <td>5</td>\n",
       "      <td>3</td>\n",
       "      <td>4</td>\n",
       "      <td>4</td>\n",
       "      <td>0</td>\n",
       "      <td>0.0</td>\n",
       "    </tr>\n",
       "    <tr>\n",
       "      <th>2</th>\n",
       "      <td>dissatisfied</td>\n",
       "      <td>disloyal Customer</td>\n",
       "      <td>37</td>\n",
       "      <td>Business travel</td>\n",
       "      <td>Business</td>\n",
       "      <td>854</td>\n",
       "      <td>1</td>\n",
       "      <td>1</td>\n",
       "      <td>1</td>\n",
       "      <td>1</td>\n",
       "      <td>...</td>\n",
       "      <td>1</td>\n",
       "      <td>5</td>\n",
       "      <td>3</td>\n",
       "      <td>4</td>\n",
       "      <td>4</td>\n",
       "      <td>4</td>\n",
       "      <td>4</td>\n",
       "      <td>5</td>\n",
       "      <td>0</td>\n",
       "      <td>0.0</td>\n",
       "    </tr>\n",
       "    <tr>\n",
       "      <th>3</th>\n",
       "      <td>satisfied</td>\n",
       "      <td>Loyal Customer</td>\n",
       "      <td>58</td>\n",
       "      <td>Personal Travel</td>\n",
       "      <td>Eco</td>\n",
       "      <td>1146</td>\n",
       "      <td>5</td>\n",
       "      <td>5</td>\n",
       "      <td>5</td>\n",
       "      <td>5</td>\n",
       "      <td>...</td>\n",
       "      <td>5</td>\n",
       "      <td>4</td>\n",
       "      <td>4</td>\n",
       "      <td>4</td>\n",
       "      <td>4</td>\n",
       "      <td>3</td>\n",
       "      <td>4</td>\n",
       "      <td>3</td>\n",
       "      <td>88</td>\n",
       "      <td>71.0</td>\n",
       "    </tr>\n",
       "    <tr>\n",
       "      <th>4</th>\n",
       "      <td>satisfied</td>\n",
       "      <td>Loyal Customer</td>\n",
       "      <td>17</td>\n",
       "      <td>Business travel</td>\n",
       "      <td>Business</td>\n",
       "      <td>4909</td>\n",
       "      <td>3</td>\n",
       "      <td>3</td>\n",
       "      <td>3</td>\n",
       "      <td>3</td>\n",
       "      <td>...</td>\n",
       "      <td>4</td>\n",
       "      <td>4</td>\n",
       "      <td>2</td>\n",
       "      <td>5</td>\n",
       "      <td>2</td>\n",
       "      <td>3</td>\n",
       "      <td>2</td>\n",
       "      <td>4</td>\n",
       "      <td>0</td>\n",
       "      <td>0.0</td>\n",
       "    </tr>\n",
       "    <tr>\n",
       "      <th>...</th>\n",
       "      <td>...</td>\n",
       "      <td>...</td>\n",
       "      <td>...</td>\n",
       "      <td>...</td>\n",
       "      <td>...</td>\n",
       "      <td>...</td>\n",
       "      <td>...</td>\n",
       "      <td>...</td>\n",
       "      <td>...</td>\n",
       "      <td>...</td>\n",
       "      <td>...</td>\n",
       "      <td>...</td>\n",
       "      <td>...</td>\n",
       "      <td>...</td>\n",
       "      <td>...</td>\n",
       "      <td>...</td>\n",
       "      <td>...</td>\n",
       "      <td>...</td>\n",
       "      <td>...</td>\n",
       "      <td>...</td>\n",
       "      <td>...</td>\n",
       "    </tr>\n",
       "    <tr>\n",
       "      <th>49995</th>\n",
       "      <td>satisfied</td>\n",
       "      <td>Loyal Customer</td>\n",
       "      <td>30</td>\n",
       "      <td>Business travel</td>\n",
       "      <td>Business</td>\n",
       "      <td>1709</td>\n",
       "      <td>1</td>\n",
       "      <td>5</td>\n",
       "      <td>1</td>\n",
       "      <td>1</td>\n",
       "      <td>...</td>\n",
       "      <td>5</td>\n",
       "      <td>5</td>\n",
       "      <td>3</td>\n",
       "      <td>4</td>\n",
       "      <td>5</td>\n",
       "      <td>4</td>\n",
       "      <td>4</td>\n",
       "      <td>5</td>\n",
       "      <td>0</td>\n",
       "      <td>10.0</td>\n",
       "    </tr>\n",
       "    <tr>\n",
       "      <th>49996</th>\n",
       "      <td>dissatisfied</td>\n",
       "      <td>Loyal Customer</td>\n",
       "      <td>42</td>\n",
       "      <td>Business travel</td>\n",
       "      <td>Eco</td>\n",
       "      <td>1642</td>\n",
       "      <td>3</td>\n",
       "      <td>4</td>\n",
       "      <td>4</td>\n",
       "      <td>4</td>\n",
       "      <td>...</td>\n",
       "      <td>3</td>\n",
       "      <td>3</td>\n",
       "      <td>3</td>\n",
       "      <td>2</td>\n",
       "      <td>4</td>\n",
       "      <td>2</td>\n",
       "      <td>4</td>\n",
       "      <td>3</td>\n",
       "      <td>23</td>\n",
       "      <td>38.0</td>\n",
       "    </tr>\n",
       "    <tr>\n",
       "      <th>49997</th>\n",
       "      <td>dissatisfied</td>\n",
       "      <td>disloyal Customer</td>\n",
       "      <td>26</td>\n",
       "      <td>Business travel</td>\n",
       "      <td>Eco Plus</td>\n",
       "      <td>3280</td>\n",
       "      <td>1</td>\n",
       "      <td>1</td>\n",
       "      <td>1</td>\n",
       "      <td>4</td>\n",
       "      <td>...</td>\n",
       "      <td>4</td>\n",
       "      <td>4</td>\n",
       "      <td>2</td>\n",
       "      <td>5</td>\n",
       "      <td>2</td>\n",
       "      <td>4</td>\n",
       "      <td>4</td>\n",
       "      <td>4</td>\n",
       "      <td>20</td>\n",
       "      <td>0.0</td>\n",
       "    </tr>\n",
       "    <tr>\n",
       "      <th>49998</th>\n",
       "      <td>satisfied</td>\n",
       "      <td>Loyal Customer</td>\n",
       "      <td>59</td>\n",
       "      <td>Personal Travel</td>\n",
       "      <td>Eco</td>\n",
       "      <td>817</td>\n",
       "      <td>3</td>\n",
       "      <td>3</td>\n",
       "      <td>3</td>\n",
       "      <td>3</td>\n",
       "      <td>...</td>\n",
       "      <td>1</td>\n",
       "      <td>4</td>\n",
       "      <td>4</td>\n",
       "      <td>4</td>\n",
       "      <td>5</td>\n",
       "      <td>5</td>\n",
       "      <td>4</td>\n",
       "      <td>4</td>\n",
       "      <td>0</td>\n",
       "      <td>0.0</td>\n",
       "    </tr>\n",
       "    <tr>\n",
       "      <th>49999</th>\n",
       "      <td>satisfied</td>\n",
       "      <td>Loyal Customer</td>\n",
       "      <td>39</td>\n",
       "      <td>Business travel</td>\n",
       "      <td>Business</td>\n",
       "      <td>1096</td>\n",
       "      <td>2</td>\n",
       "      <td>2</td>\n",
       "      <td>2</td>\n",
       "      <td>2</td>\n",
       "      <td>...</td>\n",
       "      <td>2</td>\n",
       "      <td>3</td>\n",
       "      <td>3</td>\n",
       "      <td>4</td>\n",
       "      <td>3</td>\n",
       "      <td>2</td>\n",
       "      <td>3</td>\n",
       "      <td>2</td>\n",
       "      <td>0</td>\n",
       "      <td>0.0</td>\n",
       "    </tr>\n",
       "  </tbody>\n",
       "</table>\n",
       "<p>50000 rows × 22 columns</p>\n",
       "</div>"
      ],
      "text/plain": [
       "       satisfaction      Customer Type  Age   Type of Travel     Class  \\\n",
       "0      dissatisfied     Loyal Customer   28  Personal Travel  Business   \n",
       "1         satisfied     Loyal Customer   15  Personal Travel       Eco   \n",
       "2      dissatisfied  disloyal Customer   37  Business travel  Business   \n",
       "3         satisfied     Loyal Customer   58  Personal Travel       Eco   \n",
       "4         satisfied     Loyal Customer   17  Business travel  Business   \n",
       "...             ...                ...  ...              ...       ...   \n",
       "49995     satisfied     Loyal Customer   30  Business travel  Business   \n",
       "49996  dissatisfied     Loyal Customer   42  Business travel       Eco   \n",
       "49997  dissatisfied  disloyal Customer   26  Business travel  Eco Plus   \n",
       "49998     satisfied     Loyal Customer   59  Personal Travel       Eco   \n",
       "49999     satisfied     Loyal Customer   39  Business travel  Business   \n",
       "\n",
       "       Flight Distance  Seat comfort  Departure/Arrival time convenient  \\\n",
       "0                 3849             3                                  5   \n",
       "1                 2060             3                                  3   \n",
       "2                  854             1                                  1   \n",
       "3                 1146             5                                  5   \n",
       "4                 4909             3                                  3   \n",
       "...                ...           ...                                ...   \n",
       "49995             1709             1                                  5   \n",
       "49996             1642             3                                  4   \n",
       "49997             3280             1                                  1   \n",
       "49998              817             3                                  3   \n",
       "49999             1096             2                                  2   \n",
       "\n",
       "       Food and drink  Gate location  ...  Online support  \\\n",
       "0                   3              5  ...               3   \n",
       "1                   3              3  ...               5   \n",
       "2                   1              1  ...               1   \n",
       "3                   5              5  ...               5   \n",
       "4                   3              3  ...               4   \n",
       "...               ...            ...  ...             ...   \n",
       "49995               1              1  ...               5   \n",
       "49996               4              4  ...               3   \n",
       "49997               1              4  ...               4   \n",
       "49998               3              3  ...               1   \n",
       "49999               2              2  ...               2   \n",
       "\n",
       "       Ease of Online booking  On-board service  Leg room service  \\\n",
       "0                           3                 5                 2   \n",
       "1                           4                 5                 3   \n",
       "2                           5                 3                 4   \n",
       "3                           4                 4                 4   \n",
       "4                           4                 2                 5   \n",
       "...                       ...               ...               ...   \n",
       "49995                       5                 3                 4   \n",
       "49996                       3                 3                 2   \n",
       "49997                       4                 2                 5   \n",
       "49998                       4                 4                 4   \n",
       "49999                       3                 3                 4   \n",
       "\n",
       "       Baggage handling  Checkin service  Cleanliness  Online boarding  \\\n",
       "0                     3                1            1                3   \n",
       "1                     5                3            4                4   \n",
       "2                     4                4            4                5   \n",
       "3                     4                3            4                3   \n",
       "4                     2                3            2                4   \n",
       "...                 ...              ...          ...              ...   \n",
       "49995                 5                4            4                5   \n",
       "49996                 4                2            4                3   \n",
       "49997                 2                4            4                4   \n",
       "49998                 5                5            4                4   \n",
       "49999                 3                2            3                2   \n",
       "\n",
       "       Departure Delay in Minutes  Arrival Delay in Minutes  \n",
       "0                               0                       0.0  \n",
       "1                               0                       0.0  \n",
       "2                               0                       0.0  \n",
       "3                              88                      71.0  \n",
       "4                               0                       0.0  \n",
       "...                           ...                       ...  \n",
       "49995                           0                      10.0  \n",
       "49996                          23                      38.0  \n",
       "49997                          20                       0.0  \n",
       "49998                           0                       0.0  \n",
       "49999                           0                       0.0  \n",
       "\n",
       "[50000 rows x 22 columns]"
      ]
     },
     "execution_count": 4,
     "metadata": {},
     "output_type": "execute_result"
    }
   ],
   "source": [
    "df"
   ]
  },
  {
   "cell_type": "code",
   "execution_count": 5,
   "id": "a6c9b840-7be7-4ac5-9fc7-e69bba414ada",
   "metadata": {},
   "outputs": [
    {
     "name": "stdout",
     "output_type": "stream",
     "text": [
      "<class 'pandas.core.frame.DataFrame'>\n",
      "RangeIndex: 50000 entries, 0 to 49999\n",
      "Data columns (total 22 columns):\n",
      " #   Column                             Non-Null Count  Dtype  \n",
      "---  ------                             --------------  -----  \n",
      " 0   satisfaction                       50000 non-null  object \n",
      " 1   Customer Type                      50000 non-null  object \n",
      " 2   Age                                50000 non-null  int64  \n",
      " 3   Type of Travel                     50000 non-null  object \n",
      " 4   Class                              50000 non-null  object \n",
      " 5   Flight Distance                    50000 non-null  int64  \n",
      " 6   Seat comfort                       50000 non-null  int64  \n",
      " 7   Departure/Arrival time convenient  50000 non-null  int64  \n",
      " 8   Food and drink                     50000 non-null  int64  \n",
      " 9   Gate location                      50000 non-null  int64  \n",
      " 10  Inflight wifi service              50000 non-null  int64  \n",
      " 11  Inflight entertainment             50000 non-null  int64  \n",
      " 12  Online support                     50000 non-null  int64  \n",
      " 13  Ease of Online booking             50000 non-null  int64  \n",
      " 14  On-board service                   50000 non-null  int64  \n",
      " 15  Leg room service                   50000 non-null  int64  \n",
      " 16  Baggage handling                   50000 non-null  int64  \n",
      " 17  Checkin service                    50000 non-null  int64  \n",
      " 18  Cleanliness                        50000 non-null  int64  \n",
      " 19  Online boarding                    50000 non-null  int64  \n",
      " 20  Departure Delay in Minutes         50000 non-null  int64  \n",
      " 21  Arrival Delay in Minutes           49837 non-null  float64\n",
      "dtypes: float64(1), int64(17), object(4)\n",
      "memory usage: 8.4+ MB\n"
     ]
    }
   ],
   "source": [
    "df.info()\n"
   ]
  },
  {
   "cell_type": "code",
   "execution_count": 6,
   "id": "96a01ca0-98f6-4d8c-9878-1e3ec814e902",
   "metadata": {},
   "outputs": [
    {
     "data": {
      "text/html": [
       "<div>\n",
       "<style scoped>\n",
       "    .dataframe tbody tr th:only-of-type {\n",
       "        vertical-align: middle;\n",
       "    }\n",
       "\n",
       "    .dataframe tbody tr th {\n",
       "        vertical-align: top;\n",
       "    }\n",
       "\n",
       "    .dataframe thead th {\n",
       "        text-align: right;\n",
       "    }\n",
       "</style>\n",
       "<table border=\"1\" class=\"dataframe\">\n",
       "  <thead>\n",
       "    <tr style=\"text-align: right;\">\n",
       "      <th></th>\n",
       "      <th>Age</th>\n",
       "      <th>Flight Distance</th>\n",
       "      <th>Seat comfort</th>\n",
       "      <th>Departure/Arrival time convenient</th>\n",
       "      <th>Food and drink</th>\n",
       "      <th>Gate location</th>\n",
       "      <th>Inflight wifi service</th>\n",
       "      <th>Inflight entertainment</th>\n",
       "      <th>Online support</th>\n",
       "      <th>Ease of Online booking</th>\n",
       "      <th>On-board service</th>\n",
       "      <th>Leg room service</th>\n",
       "      <th>Baggage handling</th>\n",
       "      <th>Checkin service</th>\n",
       "      <th>Cleanliness</th>\n",
       "      <th>Online boarding</th>\n",
       "      <th>Departure Delay in Minutes</th>\n",
       "      <th>Arrival Delay in Minutes</th>\n",
       "    </tr>\n",
       "  </thead>\n",
       "  <tbody>\n",
       "    <tr>\n",
       "      <th>count</th>\n",
       "      <td>50000.000000</td>\n",
       "      <td>50000.000000</td>\n",
       "      <td>50000.000000</td>\n",
       "      <td>50000.000000</td>\n",
       "      <td>50000.00000</td>\n",
       "      <td>50000.000000</td>\n",
       "      <td>50000.000000</td>\n",
       "      <td>50000.000000</td>\n",
       "      <td>50000.000000</td>\n",
       "      <td>50000.000000</td>\n",
       "      <td>50000.00000</td>\n",
       "      <td>50000.000000</td>\n",
       "      <td>50000.000000</td>\n",
       "      <td>50000.000000</td>\n",
       "      <td>50000.000000</td>\n",
       "      <td>50000.000000</td>\n",
       "      <td>50000.000000</td>\n",
       "      <td>49837.000000</td>\n",
       "    </tr>\n",
       "    <tr>\n",
       "      <th>mean</th>\n",
       "      <td>39.411080</td>\n",
       "      <td>1983.972860</td>\n",
       "      <td>2.839840</td>\n",
       "      <td>2.990700</td>\n",
       "      <td>2.85044</td>\n",
       "      <td>2.984960</td>\n",
       "      <td>3.247760</td>\n",
       "      <td>3.378700</td>\n",
       "      <td>3.521080</td>\n",
       "      <td>3.472560</td>\n",
       "      <td>3.46662</td>\n",
       "      <td>3.483140</td>\n",
       "      <td>3.696180</td>\n",
       "      <td>3.342140</td>\n",
       "      <td>3.703960</td>\n",
       "      <td>3.353380</td>\n",
       "      <td>14.632580</td>\n",
       "      <td>14.981339</td>\n",
       "    </tr>\n",
       "    <tr>\n",
       "      <th>std</th>\n",
       "      <td>15.112934</td>\n",
       "      <td>1024.320581</td>\n",
       "      <td>1.391383</td>\n",
       "      <td>1.526152</td>\n",
       "      <td>1.44262</td>\n",
       "      <td>1.306571</td>\n",
       "      <td>1.317425</td>\n",
       "      <td>1.347057</td>\n",
       "      <td>1.301902</td>\n",
       "      <td>1.299923</td>\n",
       "      <td>1.27166</td>\n",
       "      <td>1.290407</td>\n",
       "      <td>1.154548</td>\n",
       "      <td>1.258361</td>\n",
       "      <td>1.152852</td>\n",
       "      <td>1.295676</td>\n",
       "      <td>37.903006</td>\n",
       "      <td>38.315128</td>\n",
       "    </tr>\n",
       "    <tr>\n",
       "      <th>min</th>\n",
       "      <td>7.000000</td>\n",
       "      <td>50.000000</td>\n",
       "      <td>0.000000</td>\n",
       "      <td>0.000000</td>\n",
       "      <td>0.00000</td>\n",
       "      <td>0.000000</td>\n",
       "      <td>0.000000</td>\n",
       "      <td>0.000000</td>\n",
       "      <td>0.000000</td>\n",
       "      <td>0.000000</td>\n",
       "      <td>0.00000</td>\n",
       "      <td>0.000000</td>\n",
       "      <td>1.000000</td>\n",
       "      <td>0.000000</td>\n",
       "      <td>0.000000</td>\n",
       "      <td>0.000000</td>\n",
       "      <td>0.000000</td>\n",
       "      <td>0.000000</td>\n",
       "    </tr>\n",
       "    <tr>\n",
       "      <th>25%</th>\n",
       "      <td>27.000000</td>\n",
       "      <td>1364.000000</td>\n",
       "      <td>2.000000</td>\n",
       "      <td>2.000000</td>\n",
       "      <td>2.00000</td>\n",
       "      <td>2.000000</td>\n",
       "      <td>2.000000</td>\n",
       "      <td>2.000000</td>\n",
       "      <td>3.000000</td>\n",
       "      <td>2.000000</td>\n",
       "      <td>3.00000</td>\n",
       "      <td>2.000000</td>\n",
       "      <td>3.000000</td>\n",
       "      <td>3.000000</td>\n",
       "      <td>3.000000</td>\n",
       "      <td>2.000000</td>\n",
       "      <td>0.000000</td>\n",
       "      <td>0.000000</td>\n",
       "    </tr>\n",
       "    <tr>\n",
       "      <th>50%</th>\n",
       "      <td>40.000000</td>\n",
       "      <td>1927.000000</td>\n",
       "      <td>3.000000</td>\n",
       "      <td>3.000000</td>\n",
       "      <td>3.00000</td>\n",
       "      <td>3.000000</td>\n",
       "      <td>3.000000</td>\n",
       "      <td>4.000000</td>\n",
       "      <td>4.000000</td>\n",
       "      <td>4.000000</td>\n",
       "      <td>4.00000</td>\n",
       "      <td>4.000000</td>\n",
       "      <td>4.000000</td>\n",
       "      <td>3.000000</td>\n",
       "      <td>4.000000</td>\n",
       "      <td>4.000000</td>\n",
       "      <td>0.000000</td>\n",
       "      <td>0.000000</td>\n",
       "    </tr>\n",
       "    <tr>\n",
       "      <th>75%</th>\n",
       "      <td>51.000000</td>\n",
       "      <td>2546.000000</td>\n",
       "      <td>4.000000</td>\n",
       "      <td>4.000000</td>\n",
       "      <td>4.00000</td>\n",
       "      <td>4.000000</td>\n",
       "      <td>4.000000</td>\n",
       "      <td>4.000000</td>\n",
       "      <td>5.000000</td>\n",
       "      <td>5.000000</td>\n",
       "      <td>4.00000</td>\n",
       "      <td>5.000000</td>\n",
       "      <td>5.000000</td>\n",
       "      <td>4.000000</td>\n",
       "      <td>5.000000</td>\n",
       "      <td>4.000000</td>\n",
       "      <td>12.000000</td>\n",
       "      <td>13.000000</td>\n",
       "    </tr>\n",
       "    <tr>\n",
       "      <th>max</th>\n",
       "      <td>85.000000</td>\n",
       "      <td>6950.000000</td>\n",
       "      <td>5.000000</td>\n",
       "      <td>5.000000</td>\n",
       "      <td>5.00000</td>\n",
       "      <td>5.000000</td>\n",
       "      <td>5.000000</td>\n",
       "      <td>5.000000</td>\n",
       "      <td>5.000000</td>\n",
       "      <td>5.000000</td>\n",
       "      <td>5.00000</td>\n",
       "      <td>5.000000</td>\n",
       "      <td>5.000000</td>\n",
       "      <td>5.000000</td>\n",
       "      <td>5.000000</td>\n",
       "      <td>5.000000</td>\n",
       "      <td>1592.000000</td>\n",
       "      <td>1584.000000</td>\n",
       "    </tr>\n",
       "  </tbody>\n",
       "</table>\n",
       "</div>"
      ],
      "text/plain": [
       "                Age  Flight Distance  Seat comfort  \\\n",
       "count  50000.000000     50000.000000  50000.000000   \n",
       "mean      39.411080      1983.972860      2.839840   \n",
       "std       15.112934      1024.320581      1.391383   \n",
       "min        7.000000        50.000000      0.000000   \n",
       "25%       27.000000      1364.000000      2.000000   \n",
       "50%       40.000000      1927.000000      3.000000   \n",
       "75%       51.000000      2546.000000      4.000000   \n",
       "max       85.000000      6950.000000      5.000000   \n",
       "\n",
       "       Departure/Arrival time convenient  Food and drink  Gate location  \\\n",
       "count                       50000.000000     50000.00000   50000.000000   \n",
       "mean                            2.990700         2.85044       2.984960   \n",
       "std                             1.526152         1.44262       1.306571   \n",
       "min                             0.000000         0.00000       0.000000   \n",
       "25%                             2.000000         2.00000       2.000000   \n",
       "50%                             3.000000         3.00000       3.000000   \n",
       "75%                             4.000000         4.00000       4.000000   \n",
       "max                             5.000000         5.00000       5.000000   \n",
       "\n",
       "       Inflight wifi service  Inflight entertainment  Online support  \\\n",
       "count           50000.000000            50000.000000    50000.000000   \n",
       "mean                3.247760                3.378700        3.521080   \n",
       "std                 1.317425                1.347057        1.301902   \n",
       "min                 0.000000                0.000000        0.000000   \n",
       "25%                 2.000000                2.000000        3.000000   \n",
       "50%                 3.000000                4.000000        4.000000   \n",
       "75%                 4.000000                4.000000        5.000000   \n",
       "max                 5.000000                5.000000        5.000000   \n",
       "\n",
       "       Ease of Online booking  On-board service  Leg room service  \\\n",
       "count            50000.000000       50000.00000      50000.000000   \n",
       "mean                 3.472560           3.46662          3.483140   \n",
       "std                  1.299923           1.27166          1.290407   \n",
       "min                  0.000000           0.00000          0.000000   \n",
       "25%                  2.000000           3.00000          2.000000   \n",
       "50%                  4.000000           4.00000          4.000000   \n",
       "75%                  5.000000           4.00000          5.000000   \n",
       "max                  5.000000           5.00000          5.000000   \n",
       "\n",
       "       Baggage handling  Checkin service   Cleanliness  Online boarding  \\\n",
       "count      50000.000000     50000.000000  50000.000000     50000.000000   \n",
       "mean           3.696180         3.342140      3.703960         3.353380   \n",
       "std            1.154548         1.258361      1.152852         1.295676   \n",
       "min            1.000000         0.000000      0.000000         0.000000   \n",
       "25%            3.000000         3.000000      3.000000         2.000000   \n",
       "50%            4.000000         3.000000      4.000000         4.000000   \n",
       "75%            5.000000         4.000000      5.000000         4.000000   \n",
       "max            5.000000         5.000000      5.000000         5.000000   \n",
       "\n",
       "       Departure Delay in Minutes  Arrival Delay in Minutes  \n",
       "count                50000.000000              49837.000000  \n",
       "mean                    14.632580                 14.981339  \n",
       "std                     37.903006                 38.315128  \n",
       "min                      0.000000                  0.000000  \n",
       "25%                      0.000000                  0.000000  \n",
       "50%                      0.000000                  0.000000  \n",
       "75%                     12.000000                 13.000000  \n",
       "max                   1592.000000               1584.000000  "
      ]
     },
     "execution_count": 6,
     "metadata": {},
     "output_type": "execute_result"
    }
   ],
   "source": [
    "df.describe()"
   ]
  },
  {
   "cell_type": "code",
   "execution_count": 7,
   "id": "d2b7aa3b-91eb-4f51-9322-059b82235847",
   "metadata": {},
   "outputs": [
    {
     "data": {
      "text/plain": [
       "satisfaction                           0\n",
       "Customer Type                          0\n",
       "Age                                    0\n",
       "Type of Travel                         0\n",
       "Class                                  0\n",
       "Flight Distance                        0\n",
       "Seat comfort                           0\n",
       "Departure/Arrival time convenient      0\n",
       "Food and drink                         0\n",
       "Gate location                          0\n",
       "Inflight wifi service                  0\n",
       "Inflight entertainment                 0\n",
       "Online support                         0\n",
       "Ease of Online booking                 0\n",
       "On-board service                       0\n",
       "Leg room service                       0\n",
       "Baggage handling                       0\n",
       "Checkin service                        0\n",
       "Cleanliness                            0\n",
       "Online boarding                        0\n",
       "Departure Delay in Minutes             0\n",
       "Arrival Delay in Minutes             163\n",
       "dtype: int64"
      ]
     },
     "execution_count": 7,
     "metadata": {},
     "output_type": "execute_result"
    }
   ],
   "source": [
    "df.isnull().sum()"
   ]
  },
  {
   "cell_type": "code",
   "execution_count": 8,
   "id": "b54e5b39-5e04-4a8b-8f11-9d27da6eecab",
   "metadata": {},
   "outputs": [],
   "source": [
    "import warnings"
   ]
  },
  {
   "cell_type": "code",
   "execution_count": 9,
   "id": "4d65a27e-0daa-40a6-9f01-11ab12de16c6",
   "metadata": {},
   "outputs": [],
   "source": [
    "warnings.filterwarnings('ignore')"
   ]
  },
  {
   "cell_type": "code",
   "execution_count": 10,
   "id": "ea7c35ce-7f9d-4ebb-830e-51254338bc08",
   "metadata": {},
   "outputs": [],
   "source": [
    "df['Arrival Delay in Minutes'].fillna(df['Arrival Delay in Minutes'].median(), inplace=True)"
   ]
  },
  {
   "cell_type": "markdown",
   "id": "8190284b-db2d-4216-b96a-bec032afcb81",
   "metadata": {},
   "source": [
    "## Encoding Categorical Variables"
   ]
  },
  {
   "cell_type": "code",
   "execution_count": 11,
   "id": "fee3e18e-29da-4bb7-b1c7-6cfa4a32e81f",
   "metadata": {},
   "outputs": [],
   "source": [
    "from sklearn.preprocessing import StandardScaler, LabelEncoder"
   ]
  },
  {
   "cell_type": "code",
   "execution_count": 12,
   "id": "efdf1c2a-53f7-4294-928e-679bb7e2abdb",
   "metadata": {},
   "outputs": [],
   "source": [
    "le = LabelEncoder()"
   ]
  },
  {
   "cell_type": "code",
   "execution_count": 13,
   "id": "f3cd40a1-76fc-4dc8-83d0-81c794d3ff68",
   "metadata": {},
   "outputs": [
    {
     "data": {
      "text/plain": [
       "Index(['satisfaction', 'Customer Type', 'Age', 'Type of Travel', 'Class',\n",
       "       'Flight Distance', 'Seat comfort', 'Departure/Arrival time convenient',\n",
       "       'Food and drink', 'Gate location', 'Inflight wifi service',\n",
       "       'Inflight entertainment', 'Online support', 'Ease of Online booking',\n",
       "       'On-board service', 'Leg room service', 'Baggage handling',\n",
       "       'Checkin service', 'Cleanliness', 'Online boarding',\n",
       "       'Departure Delay in Minutes', 'Arrival Delay in Minutes'],\n",
       "      dtype='object')"
      ]
     },
     "execution_count": 13,
     "metadata": {},
     "output_type": "execute_result"
    }
   ],
   "source": [
    "df.columns"
   ]
  },
  {
   "cell_type": "code",
   "execution_count": 14,
   "id": "5984ed97-491a-4c36-a311-8abd161ed10f",
   "metadata": {},
   "outputs": [],
   "source": [
    "df['satisfaction'] = le.fit_transform(df['satisfaction']) "
   ]
  },
  {
   "cell_type": "code",
   "execution_count": 15,
   "id": "64c1946b-44ad-4f11-9dd1-d8202c804e06",
   "metadata": {},
   "outputs": [],
   "source": [
    "df['Customer Type'] = le.fit_transform(df['Customer Type'])"
   ]
  },
  {
   "cell_type": "code",
   "execution_count": 16,
   "id": "b2a4a313-1712-437c-a362-6162ac34cf6e",
   "metadata": {},
   "outputs": [],
   "source": [
    "df['Type of Travel'] = le.fit_transform(df['Type of Travel'])"
   ]
  },
  {
   "cell_type": "code",
   "execution_count": 17,
   "id": "b5ed44f2-5117-4d47-95a9-55d31cc3627c",
   "metadata": {},
   "outputs": [],
   "source": [
    "df['Class'] = le.fit_transform(df['Class'])"
   ]
  },
  {
   "cell_type": "markdown",
   "id": "f34dc2c7-63c5-42fd-8270-d68447527489",
   "metadata": {},
   "source": [
    "## Feature Engineering"
   ]
  },
  {
   "cell_type": "code",
   "execution_count": 18,
   "id": "982c44c2-6c92-4cf0-96ca-8878f60a29ec",
   "metadata": {},
   "outputs": [],
   "source": [
    "df['Total Delay'] = df['Departure Delay in Minutes'] + df['Arrival Delay in Minutes']"
   ]
  },
  {
   "cell_type": "code",
   "execution_count": 19,
   "id": "808a9d1f-f5fd-42d8-b42a-757102ac148c",
   "metadata": {},
   "outputs": [],
   "source": [
    "df['Delay Category'] = pd.cut(df['Total Delay'], bins=[-1, 5, 30, np.inf], labels=['Short', 'Moderate', 'Long'])"
   ]
  },
  {
   "cell_type": "code",
   "execution_count": 20,
   "id": "67938589-8be7-4b22-9bfd-8a9102079107",
   "metadata": {},
   "outputs": [],
   "source": [
    "df['Service Score'] = df[['Seat comfort', 'Food and drink', 'Inflight wifi service', 'Inflight entertainment',\n",
    "                          'Online support', 'Ease of Online booking', 'On-board service', 'Leg room service',\n",
    "                          'Baggage handling', 'Checkin service', 'Cleanliness', 'Online boarding']].mean(axis=1)"
   ]
  },
  {
   "cell_type": "markdown",
   "id": "7b0c421b-07f4-40d7-8954-a8ea3596347b",
   "metadata": {},
   "source": [
    "## Encoding New Categorical Feature"
   ]
  },
  {
   "cell_type": "code",
   "execution_count": 21,
   "id": "f4f19df1-5bcf-48c9-912f-8c766ab0e493",
   "metadata": {},
   "outputs": [],
   "source": [
    "df['Delay Category'] = le.fit_transform(df['Delay Category'])"
   ]
  },
  {
   "cell_type": "code",
   "execution_count": 22,
   "id": "9ad257a8-38a7-4895-aff0-b467b3bf7a9b",
   "metadata": {},
   "outputs": [],
   "source": [
    "df['Delay Category'] = le.fit_transform(df['Delay Category'])"
   ]
  },
  {
   "cell_type": "markdown",
   "id": "6b7e9fd7-e954-45c0-a7d0-4e4d3cdf759b",
   "metadata": {},
   "source": [
    "## Selecting Features & Target Variable"
   ]
  },
  {
   "cell_type": "code",
   "execution_count": 23,
   "id": "671ebbc6-b39e-4378-803f-bb19d432b126",
   "metadata": {},
   "outputs": [
    {
     "data": {
      "text/plain": [
       "Index(['satisfaction', 'Customer Type', 'Age', 'Type of Travel', 'Class',\n",
       "       'Flight Distance', 'Seat comfort', 'Departure/Arrival time convenient',\n",
       "       'Food and drink', 'Gate location', 'Inflight wifi service',\n",
       "       'Inflight entertainment', 'Online support', 'Ease of Online booking',\n",
       "       'On-board service', 'Leg room service', 'Baggage handling',\n",
       "       'Checkin service', 'Cleanliness', 'Online boarding',\n",
       "       'Departure Delay in Minutes', 'Arrival Delay in Minutes', 'Total Delay',\n",
       "       'Delay Category', 'Service Score'],\n",
       "      dtype='object')"
      ]
     },
     "execution_count": 23,
     "metadata": {},
     "output_type": "execute_result"
    }
   ],
   "source": [
    "df.columns"
   ]
  },
  {
   "cell_type": "code",
   "execution_count": 24,
   "id": "2d056333-5490-4487-826a-01dd92713b82",
   "metadata": {},
   "outputs": [],
   "source": [
    "X = df[['Age', 'Customer Type', 'Type of Travel', 'Class', 'Flight Distance', 'Seat comfort',\n",
    "        'Departure/Arrival time convenient', 'Food and drink', 'Gate location', 'Inflight wifi service',\n",
    "        'Inflight entertainment', 'Online support', 'Ease of Online booking', 'On-board service',\n",
    "        'Leg room service', 'Baggage handling', 'Checkin service', 'Cleanliness', 'Online boarding',\n",
    "        'Total Delay', 'Delay Category', 'Service Score']]"
   ]
  },
  {
   "cell_type": "code",
   "execution_count": 25,
   "id": "2374db9e-39a9-4252-9bdf-33fed4337963",
   "metadata": {},
   "outputs": [],
   "source": [
    "y = df['satisfaction']"
   ]
  },
  {
   "cell_type": "markdown",
   "id": "a3007d5d-53c3-4d37-a8ea-99d44ae3fe33",
   "metadata": {},
   "source": [
    "## Splitting Dataset"
   ]
  },
  {
   "cell_type": "code",
   "execution_count": 26,
   "id": "530d1f48-4145-4bc7-b5a6-9225b084b1ab",
   "metadata": {},
   "outputs": [],
   "source": [
    "from sklearn.model_selection import train_test_split"
   ]
  },
  {
   "cell_type": "code",
   "execution_count": 27,
   "id": "b4223742-444a-40c2-a303-be5e940a5247",
   "metadata": {},
   "outputs": [],
   "source": [
    "X_train, X_test, y_train, y_test = train_test_split(X, y, test_size=0.2, random_state=42)"
   ]
  },
  {
   "cell_type": "markdown",
   "id": "2e37ce72-9c93-4c50-bf43-8bbf231e76f7",
   "metadata": {},
   "source": [
    "## Standardizing Numerical Features"
   ]
  },
  {
   "cell_type": "code",
   "execution_count": 28,
   "id": "b5758b25-38d5-42f2-89a4-c668f0d5005f",
   "metadata": {},
   "outputs": [],
   "source": [
    "scaler = StandardScaler()\n",
    "X_train = scaler.fit_transform(X_train)\n",
    "X_test = scaler.transform(X_test)"
   ]
  },
  {
   "cell_type": "markdown",
   "id": "4f2121f1-6360-4310-99e1-6ccfffbd372e",
   "metadata": {},
   "source": [
    "# 2) Model Building and Analysis"
   ]
  },
  {
   "cell_type": "code",
   "execution_count": 29,
   "id": "e0907c32-ae32-4bd3-9e0b-7e31f0ff2802",
   "metadata": {},
   "outputs": [],
   "source": [
    "from sklearn.linear_model import LogisticRegression"
   ]
  },
  {
   "cell_type": "code",
   "execution_count": 30,
   "id": "9452c35f-42ed-46af-b7d0-7c68d4d8f667",
   "metadata": {},
   "outputs": [
    {
     "data": {
      "text/html": [
       "<style>#sk-container-id-1 {color: black;}#sk-container-id-1 pre{padding: 0;}#sk-container-id-1 div.sk-toggleable {background-color: white;}#sk-container-id-1 label.sk-toggleable__label {cursor: pointer;display: block;width: 100%;margin-bottom: 0;padding: 0.3em;box-sizing: border-box;text-align: center;}#sk-container-id-1 label.sk-toggleable__label-arrow:before {content: \"▸\";float: left;margin-right: 0.25em;color: #696969;}#sk-container-id-1 label.sk-toggleable__label-arrow:hover:before {color: black;}#sk-container-id-1 div.sk-estimator:hover label.sk-toggleable__label-arrow:before {color: black;}#sk-container-id-1 div.sk-toggleable__content {max-height: 0;max-width: 0;overflow: hidden;text-align: left;background-color: #f0f8ff;}#sk-container-id-1 div.sk-toggleable__content pre {margin: 0.2em;color: black;border-radius: 0.25em;background-color: #f0f8ff;}#sk-container-id-1 input.sk-toggleable__control:checked~div.sk-toggleable__content {max-height: 200px;max-width: 100%;overflow: auto;}#sk-container-id-1 input.sk-toggleable__control:checked~label.sk-toggleable__label-arrow:before {content: \"▾\";}#sk-container-id-1 div.sk-estimator input.sk-toggleable__control:checked~label.sk-toggleable__label {background-color: #d4ebff;}#sk-container-id-1 div.sk-label input.sk-toggleable__control:checked~label.sk-toggleable__label {background-color: #d4ebff;}#sk-container-id-1 input.sk-hidden--visually {border: 0;clip: rect(1px 1px 1px 1px);clip: rect(1px, 1px, 1px, 1px);height: 1px;margin: -1px;overflow: hidden;padding: 0;position: absolute;width: 1px;}#sk-container-id-1 div.sk-estimator {font-family: monospace;background-color: #f0f8ff;border: 1px dotted black;border-radius: 0.25em;box-sizing: border-box;margin-bottom: 0.5em;}#sk-container-id-1 div.sk-estimator:hover {background-color: #d4ebff;}#sk-container-id-1 div.sk-parallel-item::after {content: \"\";width: 100%;border-bottom: 1px solid gray;flex-grow: 1;}#sk-container-id-1 div.sk-label:hover label.sk-toggleable__label {background-color: #d4ebff;}#sk-container-id-1 div.sk-serial::before {content: \"\";position: absolute;border-left: 1px solid gray;box-sizing: border-box;top: 0;bottom: 0;left: 50%;z-index: 0;}#sk-container-id-1 div.sk-serial {display: flex;flex-direction: column;align-items: center;background-color: white;padding-right: 0.2em;padding-left: 0.2em;position: relative;}#sk-container-id-1 div.sk-item {position: relative;z-index: 1;}#sk-container-id-1 div.sk-parallel {display: flex;align-items: stretch;justify-content: center;background-color: white;position: relative;}#sk-container-id-1 div.sk-item::before, #sk-container-id-1 div.sk-parallel-item::before {content: \"\";position: absolute;border-left: 1px solid gray;box-sizing: border-box;top: 0;bottom: 0;left: 50%;z-index: -1;}#sk-container-id-1 div.sk-parallel-item {display: flex;flex-direction: column;z-index: 1;position: relative;background-color: white;}#sk-container-id-1 div.sk-parallel-item:first-child::after {align-self: flex-end;width: 50%;}#sk-container-id-1 div.sk-parallel-item:last-child::after {align-self: flex-start;width: 50%;}#sk-container-id-1 div.sk-parallel-item:only-child::after {width: 0;}#sk-container-id-1 div.sk-dashed-wrapped {border: 1px dashed gray;margin: 0 0.4em 0.5em 0.4em;box-sizing: border-box;padding-bottom: 0.4em;background-color: white;}#sk-container-id-1 div.sk-label label {font-family: monospace;font-weight: bold;display: inline-block;line-height: 1.2em;}#sk-container-id-1 div.sk-label-container {text-align: center;}#sk-container-id-1 div.sk-container {/* jupyter's `normalize.less` sets `[hidden] { display: none; }` but bootstrap.min.css set `[hidden] { display: none !important; }` so we also need the `!important` here to be able to override the default hidden behavior on the sphinx rendered scikit-learn.org. See: https://github.com/scikit-learn/scikit-learn/issues/21755 */display: inline-block !important;position: relative;}#sk-container-id-1 div.sk-text-repr-fallback {display: none;}</style><div id=\"sk-container-id-1\" class=\"sk-top-container\"><div class=\"sk-text-repr-fallback\"><pre>LogisticRegression()</pre><b>In a Jupyter environment, please rerun this cell to show the HTML representation or trust the notebook. <br />On GitHub, the HTML representation is unable to render, please try loading this page with nbviewer.org.</b></div><div class=\"sk-container\" hidden><div class=\"sk-item\"><div class=\"sk-estimator sk-toggleable\"><input class=\"sk-toggleable__control sk-hidden--visually\" id=\"sk-estimator-id-1\" type=\"checkbox\" checked><label for=\"sk-estimator-id-1\" class=\"sk-toggleable__label sk-toggleable__label-arrow\">LogisticRegression</label><div class=\"sk-toggleable__content\"><pre>LogisticRegression()</pre></div></div></div></div></div>"
      ],
      "text/plain": [
       "LogisticRegression()"
      ]
     },
     "execution_count": 30,
     "metadata": {},
     "output_type": "execute_result"
    }
   ],
   "source": [
    "model = LogisticRegression()\n",
    "model.fit(X_train, y_train)\n"
   ]
  },
  {
   "cell_type": "markdown",
   "id": "482367fa-23f6-4cb4-960b-a579bfe838aa",
   "metadata": {},
   "source": [
    "## Predictions"
   ]
  },
  {
   "cell_type": "code",
   "execution_count": 31,
   "id": "e8b83324-9326-4ac7-8e69-1f6521952f90",
   "metadata": {},
   "outputs": [],
   "source": [
    "y_pred = model.predict(X_test)\n",
    "y_prob = model.predict_proba(X_test)[:, 1]"
   ]
  },
  {
   "cell_type": "markdown",
   "id": "0e664500-ff59-425f-ab83-775767c4fbeb",
   "metadata": {},
   "source": [
    "## Model Evaluation"
   ]
  },
  {
   "cell_type": "code",
   "execution_count": 32,
   "id": "aac48c07-2cfc-4fe1-90c5-4b3d667811ee",
   "metadata": {},
   "outputs": [],
   "source": [
    "from sklearn.metrics import accuracy_score, confusion_matrix, classification_report, roc_auc_score, roc_curve"
   ]
  },
  {
   "cell_type": "code",
   "execution_count": 33,
   "id": "5669e714-8ee7-4409-8d30-a4ee0890d69c",
   "metadata": {},
   "outputs": [],
   "source": [
    "accuracy = accuracy_score(y_test, y_pred)\n",
    "conf_matrix = confusion_matrix(y_test, y_pred)\n",
    "report = classification_report(y_test, y_pred)\n",
    "roc_auc = roc_auc_score(y_test, y_prob)"
   ]
  },
  {
   "cell_type": "code",
   "execution_count": 34,
   "id": "b0928727-2834-4c9b-b82d-dfa95fb470fe",
   "metadata": {},
   "outputs": [
    {
     "name": "stdout",
     "output_type": "stream",
     "text": [
      "Accuracy: 0.8312\n",
      "Confusion Matrix:\n",
      "[[3669  858]\n",
      " [ 830 4643]]\n",
      "Classification Report:\n",
      "              precision    recall  f1-score   support\n",
      "\n",
      "           0       0.82      0.81      0.81      4527\n",
      "           1       0.84      0.85      0.85      5473\n",
      "\n",
      "    accuracy                           0.83     10000\n",
      "   macro avg       0.83      0.83      0.83     10000\n",
      "weighted avg       0.83      0.83      0.83     10000\n",
      "\n",
      "ROC-AUC Score: 0.9070276556145191\n"
     ]
    }
   ],
   "source": [
    "print(f\"Accuracy: {accuracy}\")\n",
    "print(f\"Confusion Matrix:\\n{conf_matrix}\")\n",
    "print(f\"Classification Report:\\n{report}\")\n",
    "print(f\"ROC-AUC Score: {roc_auc}\")"
   ]
  },
  {
   "cell_type": "markdown",
   "id": "533d7b11-2826-4db6-b4ab-6f52ccd0e00b",
   "metadata": {},
   "source": [
    "# Plot ROC Curve"
   ]
  },
  {
   "cell_type": "code",
   "execution_count": 35,
   "id": "c10922bb-f118-4b24-b380-6ad77e3ed204",
   "metadata": {},
   "outputs": [],
   "source": [
    "import matplotlib.pyplot as plt"
   ]
  },
  {
   "cell_type": "code",
   "execution_count": 36,
   "id": "396c9a9b-d54d-43b5-8c19-8434ec71e312",
   "metadata": {},
   "outputs": [
    {
     "data": {
      "image/png": "[encoded data removed]",
      "text/plain": [
       "<Figure size 800x600 with 1 Axes>"
      ]
     },
     "metadata": {},
     "output_type": "display_data"
    }
   ],
   "source": [
    "fpr, tpr, _ = roc_curve(y_test, y_prob)\n",
    "plt.figure(figsize=(8,6))\n",
    "plt.plot(fpr, tpr, label=f'ROC Curve (AUC = {roc_auc:.2f}')\n",
    "plt.plot([0, 1], [0, 1], linestyle='--', color='gray')\n",
    "plt.xlabel('False Positive Rate')\n",
    "plt.ylabel('True Positive Rate')\n",
    "plt.title('ROC Curve')\n",
    "plt.legend()\n",
    "plt.show()"
   ]
  },
  {
   "cell_type": "code",
   "execution_count": null,
   "id": "d37aa3b4-0319-4ad4-966f-42aaf97a2b44",
   "metadata": {},
   "outputs": [],
   "source": []
  }
 ],
 "metadata": {
  "kernelspec": {
   "display_name": "Python 3 (ipykernel)",
   "language": "python",
   "name": "python3"
  },
  "language_info": {
   "codemirror_mode": {
    "name": "ipython",
    "version": 3
   },
   "file_extension": ".py",
   "mimetype": "text/x-python",
   "name": "python",
   "nbconvert_exporter": "python",
   "pygments_lexer": "ipython3",
   "version": "3.10.12"
  }
 },
 "nbformat": 4,
 "nbformat_minor": 5
}
